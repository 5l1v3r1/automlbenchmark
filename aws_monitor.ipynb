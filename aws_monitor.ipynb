{
 "cells": [
  {
   "cell_type": "code",
   "execution_count": 1,
   "metadata": {},
   "outputs": [],
   "source": [
    "import os\n",
    "\n",
    "from IPython import display as idisplay\n",
    "import pandas as pd\n",
    "\n",
    "from automl import utils as aut"
   ]
  },
  {
   "cell_type": "code",
   "execution_count": 2,
   "metadata": {},
   "outputs": [],
   "source": [
    "ff = \"%.6g\"\n",
    "\n",
    "def display(fr, pretty=True, float_format=ff):\n",
    "    with pd.option_context(\n",
    "        'display.max_rows', len(fr), \n",
    "        'display.float_format', lambda f: float_format % f\n",
    "        ):\n",
    "        if type(fr) is pd.Series:\n",
    "            fr = fr.to_frame()\n",
    "        if pretty and type(fr) is pd.DataFrame:\n",
    "            fr.style.set_properties(**{'vertical-align':'top'})\n",
    "            idisplay.display(idisplay.HTML(fr.to_html()))\n",
    "        else:\n",
    "            print(fr)"
   ]
  },
  {
   "cell_type": "code",
   "execution_count": 3,
   "metadata": {},
   "outputs": [],
   "source": [
    "running_dir = \"./rerun\"\n",
    "monitor_files = aut.list_all_files(running_dir, \"*/instances.csv\")\n",
    "all_instances = pd.concat([pd.read_csv(file) for file in monitor_files], ignore_index=True)"
   ]
  },
  {
   "cell_type": "code",
   "execution_count": 4,
   "metadata": {},
   "outputs": [
    {
     "data": {
      "text/html": [
       "<table border=\"1\" class=\"dataframe\">\n",
       "  <thead>\n",
       "    <tr style=\"text-align: right;\">\n",
       "      <th></th>\n",
       "      <th>ec2</th>\n",
       "      <th>status</th>\n",
       "      <th>success</th>\n",
       "      <th>start_time</th>\n",
       "      <th>stop_time</th>\n",
       "      <th>session</th>\n",
       "      <th>instance_key</th>\n",
       "      <th>s3 dir</th>\n",
       "    </tr>\n",
       "  </thead>\n",
       "  <tbody>\n",
       "    <tr>\n",
       "      <th>11</th>\n",
       "      <td>i-0c675ac29c9db0378</td>\n",
       "      <td>running</td>\n",
       "      <td>NaN</td>\n",
       "      <td>2019-04-25T23:57:04</td>\n",
       "      <td>NaN</td>\n",
       "      <td>aws_tpot_large-8c8h_20190425T235655</td>\n",
       "      <td>aws_large-8c8h_dionis_1_tpot</td>\n",
       "      <td>s3://automl-benchmark/ec2/aws_tpot_large-8c8h_...</td>\n",
       "    </tr>\n",
       "    <tr>\n",
       "      <th>13</th>\n",
       "      <td>i-0b0a9f0d10cbf92e1</td>\n",
       "      <td>running</td>\n",
       "      <td>NaN</td>\n",
       "      <td>2019-04-25T23:57:13</td>\n",
       "      <td>NaN</td>\n",
       "      <td>aws_tpot_large-8c8h_20190425T235655</td>\n",
       "      <td>aws_large-8c8h_dionis_3_tpot</td>\n",
       "      <td>s3://automl-benchmark/ec2/aws_tpot_large-8c8h_...</td>\n",
       "    </tr>\n",
       "    <tr>\n",
       "      <th>14</th>\n",
       "      <td>i-0961c9ebb4c568a1f</td>\n",
       "      <td>running</td>\n",
       "      <td>NaN</td>\n",
       "      <td>2019-04-25T23:57:18</td>\n",
       "      <td>NaN</td>\n",
       "      <td>aws_tpot_large-8c8h_20190425T235655</td>\n",
       "      <td>aws_large-8c8h_dionis_4_tpot</td>\n",
       "      <td>s3://automl-benchmark/ec2/aws_tpot_large-8c8h_...</td>\n",
       "    </tr>\n",
       "    <tr>\n",
       "      <th>15</th>\n",
       "      <td>i-01503437c2954b8a7</td>\n",
       "      <td>running</td>\n",
       "      <td>NaN</td>\n",
       "      <td>2019-04-25T23:57:23</td>\n",
       "      <td>NaN</td>\n",
       "      <td>aws_tpot_large-8c8h_20190425T235655</td>\n",
       "      <td>aws_large-8c8h_dionis_5_tpot</td>\n",
       "      <td>s3://automl-benchmark/ec2/aws_tpot_large-8c8h_...</td>\n",
       "    </tr>\n",
       "    <tr>\n",
       "      <th>16</th>\n",
       "      <td>i-06f2b27a3b036a2fb</td>\n",
       "      <td>running</td>\n",
       "      <td>NaN</td>\n",
       "      <td>2019-04-25T23:57:28</td>\n",
       "      <td>NaN</td>\n",
       "      <td>aws_tpot_large-8c8h_20190425T235655</td>\n",
       "      <td>aws_large-8c8h_dionis_6_tpot</td>\n",
       "      <td>s3://automl-benchmark/ec2/aws_tpot_large-8c8h_...</td>\n",
       "    </tr>\n",
       "    <tr>\n",
       "      <th>17</th>\n",
       "      <td>i-09d094fe718be9408</td>\n",
       "      <td>running</td>\n",
       "      <td>NaN</td>\n",
       "      <td>2019-04-25T23:57:33</td>\n",
       "      <td>NaN</td>\n",
       "      <td>aws_tpot_large-8c8h_20190425T235655</td>\n",
       "      <td>aws_large-8c8h_dionis_7_tpot</td>\n",
       "      <td>s3://automl-benchmark/ec2/aws_tpot_large-8c8h_...</td>\n",
       "    </tr>\n",
       "    <tr>\n",
       "      <th>19</th>\n",
       "      <td>i-0a1e228938baf074a</td>\n",
       "      <td>running</td>\n",
       "      <td>NaN</td>\n",
       "      <td>2019-04-25T23:57:43</td>\n",
       "      <td>NaN</td>\n",
       "      <td>aws_tpot_large-8c8h_20190425T235655</td>\n",
       "      <td>aws_large-8c8h_dionis_9_tpot</td>\n",
       "      <td>s3://automl-benchmark/ec2/aws_tpot_large-8c8h_...</td>\n",
       "    </tr>\n",
       "    <tr>\n",
       "      <th>111</th>\n",
       "      <td>i-037999db63b22760b</td>\n",
       "      <td>running</td>\n",
       "      <td>NaN</td>\n",
       "      <td>2019-04-26T10:36:19</td>\n",
       "      <td>NaN</td>\n",
       "      <td>aws_h2oautoml_large-8c8h_20190426T103616</td>\n",
       "      <td>aws_large-8c8h_albert_5_h2oautoml</td>\n",
       "      <td>s3://automl-benchmark/ec2/aws_h2oautoml_large-...</td>\n",
       "    </tr>\n",
       "  </tbody>\n",
       "</table>"
      ],
      "text/plain": [
       "<IPython.core.display.HTML object>"
      ]
     },
     "metadata": {},
     "output_type": "display_data"
    }
   ],
   "source": [
    "alive = (all_instances.loc[pd.isna(all_instances['stop_time'])]\n",
    "                      .loc[~all_instances['status'].isin(['aborted'])]\n",
    "                      .sort_values(by=['start_time']))\n",
    "display(alive)"
   ]
  },
  {
   "cell_type": "code",
   "execution_count": 5,
   "metadata": {},
   "outputs": [
    {
     "data": {
      "text/html": [
       "<table border=\"1\" class=\"dataframe\">\n",
       "  <thead>\n",
       "    <tr style=\"text-align: right;\">\n",
       "      <th></th>\n",
       "      <th>ec2</th>\n",
       "      <th>status</th>\n",
       "      <th>success</th>\n",
       "      <th>start_time</th>\n",
       "      <th>stop_time</th>\n",
       "      <th>session</th>\n",
       "      <th>instance_key</th>\n",
       "      <th>s3 dir</th>\n",
       "    </tr>\n",
       "  </thead>\n",
       "  <tbody>\n",
       "  </tbody>\n",
       "</table>"
      ],
      "text/plain": [
       "<IPython.core.display.HTML object>"
      ]
     },
     "metadata": {},
     "output_type": "display_data"
    }
   ],
   "source": [
    "alive_1h = alive.loc[alive['session'].str.contains('8c1h')]\n",
    "display(alive_1h)"
   ]
  },
  {
   "cell_type": "code",
   "execution_count": 6,
   "metadata": {},
   "outputs": [
    {
     "data": {
      "text/html": [
       "<table border=\"1\" class=\"dataframe\">\n",
       "  <thead>\n",
       "    <tr style=\"text-align: right;\">\n",
       "      <th></th>\n",
       "      <th>ec2</th>\n",
       "      <th>status</th>\n",
       "      <th>success</th>\n",
       "      <th>start_time</th>\n",
       "      <th>stop_time</th>\n",
       "      <th>session</th>\n",
       "      <th>instance_key</th>\n",
       "      <th>s3 dir</th>\n",
       "    </tr>\n",
       "  </thead>\n",
       "  <tbody>\n",
       "  </tbody>\n",
       "</table>"
      ],
      "text/plain": [
       "<IPython.core.display.HTML object>"
      ]
     },
     "metadata": {},
     "output_type": "display_data"
    }
   ],
   "source": [
    "alive_4h = alive.loc[alive['session'].str.contains('8c4h')]\n",
    "display(alive_4h)"
   ]
  },
  {
   "cell_type": "code",
   "execution_count": 7,
   "metadata": {},
   "outputs": [
    {
     "data": {
      "text/html": [
       "<table border=\"1\" class=\"dataframe\">\n",
       "  <thead>\n",
       "    <tr style=\"text-align: right;\">\n",
       "      <th></th>\n",
       "      <th>ec2</th>\n",
       "      <th>status</th>\n",
       "      <th>success</th>\n",
       "      <th>start_time</th>\n",
       "      <th>stop_time</th>\n",
       "      <th>session</th>\n",
       "      <th>instance_key</th>\n",
       "      <th>s3 dir</th>\n",
       "    </tr>\n",
       "  </thead>\n",
       "  <tbody>\n",
       "    <tr>\n",
       "      <th>11</th>\n",
       "      <td>i-0c675ac29c9db0378</td>\n",
       "      <td>running</td>\n",
       "      <td>NaN</td>\n",
       "      <td>2019-04-25T23:57:04</td>\n",
       "      <td>NaN</td>\n",
       "      <td>aws_tpot_large-8c8h_20190425T235655</td>\n",
       "      <td>aws_large-8c8h_dionis_1_tpot</td>\n",
       "      <td>s3://automl-benchmark/ec2/aws_tpot_large-8c8h_...</td>\n",
       "    </tr>\n",
       "    <tr>\n",
       "      <th>13</th>\n",
       "      <td>i-0b0a9f0d10cbf92e1</td>\n",
       "      <td>running</td>\n",
       "      <td>NaN</td>\n",
       "      <td>2019-04-25T23:57:13</td>\n",
       "      <td>NaN</td>\n",
       "      <td>aws_tpot_large-8c8h_20190425T235655</td>\n",
       "      <td>aws_large-8c8h_dionis_3_tpot</td>\n",
       "      <td>s3://automl-benchmark/ec2/aws_tpot_large-8c8h_...</td>\n",
       "    </tr>\n",
       "    <tr>\n",
       "      <th>14</th>\n",
       "      <td>i-0961c9ebb4c568a1f</td>\n",
       "      <td>running</td>\n",
       "      <td>NaN</td>\n",
       "      <td>2019-04-25T23:57:18</td>\n",
       "      <td>NaN</td>\n",
       "      <td>aws_tpot_large-8c8h_20190425T235655</td>\n",
       "      <td>aws_large-8c8h_dionis_4_tpot</td>\n",
       "      <td>s3://automl-benchmark/ec2/aws_tpot_large-8c8h_...</td>\n",
       "    </tr>\n",
       "    <tr>\n",
       "      <th>15</th>\n",
       "      <td>i-01503437c2954b8a7</td>\n",
       "      <td>running</td>\n",
       "      <td>NaN</td>\n",
       "      <td>2019-04-25T23:57:23</td>\n",
       "      <td>NaN</td>\n",
       "      <td>aws_tpot_large-8c8h_20190425T235655</td>\n",
       "      <td>aws_large-8c8h_dionis_5_tpot</td>\n",
       "      <td>s3://automl-benchmark/ec2/aws_tpot_large-8c8h_...</td>\n",
       "    </tr>\n",
       "    <tr>\n",
       "      <th>16</th>\n",
       "      <td>i-06f2b27a3b036a2fb</td>\n",
       "      <td>running</td>\n",
       "      <td>NaN</td>\n",
       "      <td>2019-04-25T23:57:28</td>\n",
       "      <td>NaN</td>\n",
       "      <td>aws_tpot_large-8c8h_20190425T235655</td>\n",
       "      <td>aws_large-8c8h_dionis_6_tpot</td>\n",
       "      <td>s3://automl-benchmark/ec2/aws_tpot_large-8c8h_...</td>\n",
       "    </tr>\n",
       "    <tr>\n",
       "      <th>17</th>\n",
       "      <td>i-09d094fe718be9408</td>\n",
       "      <td>running</td>\n",
       "      <td>NaN</td>\n",
       "      <td>2019-04-25T23:57:33</td>\n",
       "      <td>NaN</td>\n",
       "      <td>aws_tpot_large-8c8h_20190425T235655</td>\n",
       "      <td>aws_large-8c8h_dionis_7_tpot</td>\n",
       "      <td>s3://automl-benchmark/ec2/aws_tpot_large-8c8h_...</td>\n",
       "    </tr>\n",
       "    <tr>\n",
       "      <th>19</th>\n",
       "      <td>i-0a1e228938baf074a</td>\n",
       "      <td>running</td>\n",
       "      <td>NaN</td>\n",
       "      <td>2019-04-25T23:57:43</td>\n",
       "      <td>NaN</td>\n",
       "      <td>aws_tpot_large-8c8h_20190425T235655</td>\n",
       "      <td>aws_large-8c8h_dionis_9_tpot</td>\n",
       "      <td>s3://automl-benchmark/ec2/aws_tpot_large-8c8h_...</td>\n",
       "    </tr>\n",
       "    <tr>\n",
       "      <th>111</th>\n",
       "      <td>i-037999db63b22760b</td>\n",
       "      <td>running</td>\n",
       "      <td>NaN</td>\n",
       "      <td>2019-04-26T10:36:19</td>\n",
       "      <td>NaN</td>\n",
       "      <td>aws_h2oautoml_large-8c8h_20190426T103616</td>\n",
       "      <td>aws_large-8c8h_albert_5_h2oautoml</td>\n",
       "      <td>s3://automl-benchmark/ec2/aws_h2oautoml_large-...</td>\n",
       "    </tr>\n",
       "  </tbody>\n",
       "</table>"
      ],
      "text/plain": [
       "<IPython.core.display.HTML object>"
      ]
     },
     "metadata": {},
     "output_type": "display_data"
    }
   ],
   "source": [
    "alive_8h = alive.loc[alive['session'].str.contains('8c8h')]\n",
    "display(alive_8h)"
   ]
  },
  {
   "cell_type": "code",
   "execution_count": null,
   "metadata": {},
   "outputs": [],
   "source": []
  },
  {
   "cell_type": "code",
   "execution_count": null,
   "metadata": {},
   "outputs": [],
   "source": []
  }
 ],
 "metadata": {
  "kernelspec": {
   "display_name": "ve36-h2o",
   "language": "python",
   "name": "ve36-h2o"
  },
  "language_info": {
   "codemirror_mode": {
    "name": "ipython",
    "version": 3
   },
   "file_extension": ".py",
   "mimetype": "text/x-python",
   "name": "python",
   "nbconvert_exporter": "python",
   "pygments_lexer": "ipython3",
   "version": "3.6.5"
  },
  "varInspector": {
   "cols": {
    "lenName": 16,
    "lenType": 16,
    "lenVar": 40
   },
   "kernels_config": {
    "python": {
     "delete_cmd_postfix": "",
     "delete_cmd_prefix": "del ",
     "library": "var_list.py",
     "varRefreshCmd": "print(var_dic_list())"
    },
    "r": {
     "delete_cmd_postfix": ") ",
     "delete_cmd_prefix": "rm(",
     "library": "var_list.r",
     "varRefreshCmd": "cat(var_dic_list()) "
    }
   },
   "types_to_exclude": [
    "module",
    "function",
    "builtin_function_or_method",
    "instance",
    "_Feature"
   ],
   "window_display": false
  }
 },
 "nbformat": 4,
 "nbformat_minor": 2
}
